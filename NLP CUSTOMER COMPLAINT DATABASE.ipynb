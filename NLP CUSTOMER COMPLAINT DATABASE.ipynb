{
 "cells": [
  {
   "cell_type": "code",
   "execution_count": 1,
   "id": "5c2300bb",
   "metadata": {},
   "outputs": [],
   "source": [
    "import numpy as np\n",
    "import pandas as pd\n",
    "import seaborn as sns \n",
    "import matplotlib.pyplot as plt\n",
    "import warnings\n",
    "warnings.filterwarnings('ignore')\n"
   ]
  },
  {
   "cell_type": "code",
   "execution_count": 2,
   "id": "fcd840c2",
   "metadata": {},
   "outputs": [],
   "source": [
    "df=pd.read_csv(\"ccd.csv\")"
   ]
  },
  {
   "cell_type": "code",
   "execution_count": 3,
   "id": "76806b9e",
   "metadata": {},
   "outputs": [
    {
     "data": {
      "text/html": [
       "<div>\n",
       "<style scoped>\n",
       "    .dataframe tbody tr th:only-of-type {\n",
       "        vertical-align: middle;\n",
       "    }\n",
       "\n",
       "    .dataframe tbody tr th {\n",
       "        vertical-align: top;\n",
       "    }\n",
       "\n",
       "    .dataframe thead th {\n",
       "        text-align: right;\n",
       "    }\n",
       "</style>\n",
       "<table border=\"1\" class=\"dataframe\">\n",
       "  <thead>\n",
       "    <tr style=\"text-align: right;\">\n",
       "      <th></th>\n",
       "      <th>Date received</th>\n",
       "      <th>Product</th>\n",
       "      <th>Sub-product</th>\n",
       "      <th>Issue</th>\n",
       "      <th>Sub-issue</th>\n",
       "      <th>Consumer complaint narrative</th>\n",
       "      <th>Company public response</th>\n",
       "      <th>Company</th>\n",
       "      <th>State</th>\n",
       "      <th>ZIP code</th>\n",
       "      <th>Tags</th>\n",
       "      <th>Consumer consent provided?</th>\n",
       "      <th>Submitted via</th>\n",
       "      <th>Date sent to company</th>\n",
       "      <th>Company response to consumer</th>\n",
       "      <th>Timely response?</th>\n",
       "      <th>Consumer disputed?</th>\n",
       "      <th>Complaint ID</th>\n",
       "    </tr>\n",
       "  </thead>\n",
       "  <tbody>\n",
       "    <tr>\n",
       "      <th>0</th>\n",
       "      <td>05/10/2019</td>\n",
       "      <td>Checking or savings account</td>\n",
       "      <td>Checking account</td>\n",
       "      <td>Managing an account</td>\n",
       "      <td>Problem using a debit or ATM card</td>\n",
       "      <td>NaN</td>\n",
       "      <td>NaN</td>\n",
       "      <td>NAVY FEDERAL CREDIT UNION</td>\n",
       "      <td>FL</td>\n",
       "      <td>328XX</td>\n",
       "      <td>Older American</td>\n",
       "      <td>NaN</td>\n",
       "      <td>Web</td>\n",
       "      <td>05/10/2019</td>\n",
       "      <td>In progress</td>\n",
       "      <td>Yes</td>\n",
       "      <td>NaN</td>\n",
       "      <td>3238275</td>\n",
       "    </tr>\n",
       "    <tr>\n",
       "      <th>1</th>\n",
       "      <td>05/10/2019</td>\n",
       "      <td>Checking or savings account</td>\n",
       "      <td>Other banking product or service</td>\n",
       "      <td>Managing an account</td>\n",
       "      <td>Deposits and withdrawals</td>\n",
       "      <td>NaN</td>\n",
       "      <td>NaN</td>\n",
       "      <td>BOEING EMPLOYEES CREDIT UNION</td>\n",
       "      <td>WA</td>\n",
       "      <td>98204</td>\n",
       "      <td>NaN</td>\n",
       "      <td>NaN</td>\n",
       "      <td>Referral</td>\n",
       "      <td>05/10/2019</td>\n",
       "      <td>Closed with explanation</td>\n",
       "      <td>Yes</td>\n",
       "      <td>NaN</td>\n",
       "      <td>3238228</td>\n",
       "    </tr>\n",
       "    <tr>\n",
       "      <th>2</th>\n",
       "      <td>05/10/2019</td>\n",
       "      <td>Debt collection</td>\n",
       "      <td>Payday loan debt</td>\n",
       "      <td>Communication tactics</td>\n",
       "      <td>Frequent or repeated calls</td>\n",
       "      <td>NaN</td>\n",
       "      <td>NaN</td>\n",
       "      <td>CURO Intermediate Holdings</td>\n",
       "      <td>TX</td>\n",
       "      <td>751XX</td>\n",
       "      <td>NaN</td>\n",
       "      <td>NaN</td>\n",
       "      <td>Web</td>\n",
       "      <td>05/10/2019</td>\n",
       "      <td>Closed with explanation</td>\n",
       "      <td>Yes</td>\n",
       "      <td>NaN</td>\n",
       "      <td>3237964</td>\n",
       "    </tr>\n",
       "    <tr>\n",
       "      <th>3</th>\n",
       "      <td>05/10/2019</td>\n",
       "      <td>Credit reporting, credit repair services, or o...</td>\n",
       "      <td>Credit reporting</td>\n",
       "      <td>Incorrect information on your report</td>\n",
       "      <td>Old information reappears or never goes away</td>\n",
       "      <td>NaN</td>\n",
       "      <td>NaN</td>\n",
       "      <td>Ad Astra Recovery Services Inc</td>\n",
       "      <td>LA</td>\n",
       "      <td>708XX</td>\n",
       "      <td>NaN</td>\n",
       "      <td>NaN</td>\n",
       "      <td>Web</td>\n",
       "      <td>05/10/2019</td>\n",
       "      <td>Closed with explanation</td>\n",
       "      <td>Yes</td>\n",
       "      <td>NaN</td>\n",
       "      <td>3238479</td>\n",
       "    </tr>\n",
       "    <tr>\n",
       "      <th>4</th>\n",
       "      <td>05/10/2019</td>\n",
       "      <td>Checking or savings account</td>\n",
       "      <td>Checking account</td>\n",
       "      <td>Managing an account</td>\n",
       "      <td>Banking errors</td>\n",
       "      <td>NaN</td>\n",
       "      <td>NaN</td>\n",
       "      <td>ALLY FINANCIAL INC.</td>\n",
       "      <td>AZ</td>\n",
       "      <td>85205</td>\n",
       "      <td>NaN</td>\n",
       "      <td>NaN</td>\n",
       "      <td>Postal mail</td>\n",
       "      <td>05/10/2019</td>\n",
       "      <td>In progress</td>\n",
       "      <td>Yes</td>\n",
       "      <td>NaN</td>\n",
       "      <td>3238460</td>\n",
       "    </tr>\n",
       "    <tr>\n",
       "      <th>...</th>\n",
       "      <td>...</td>\n",
       "      <td>...</td>\n",
       "      <td>...</td>\n",
       "      <td>...</td>\n",
       "      <td>...</td>\n",
       "      <td>...</td>\n",
       "      <td>...</td>\n",
       "      <td>...</td>\n",
       "      <td>...</td>\n",
       "      <td>...</td>\n",
       "      <td>...</td>\n",
       "      <td>...</td>\n",
       "      <td>...</td>\n",
       "      <td>...</td>\n",
       "      <td>...</td>\n",
       "      <td>...</td>\n",
       "      <td>...</td>\n",
       "      <td>...</td>\n",
       "    </tr>\n",
       "    <tr>\n",
       "      <th>1282350</th>\n",
       "      <td>12/01/2011</td>\n",
       "      <td>Credit card</td>\n",
       "      <td>NaN</td>\n",
       "      <td>Credit determination</td>\n",
       "      <td>NaN</td>\n",
       "      <td>NaN</td>\n",
       "      <td>NaN</td>\n",
       "      <td>CITIBANK, N.A.</td>\n",
       "      <td>MO</td>\n",
       "      <td>63301</td>\n",
       "      <td>NaN</td>\n",
       "      <td>NaN</td>\n",
       "      <td>Web</td>\n",
       "      <td>12/02/2011</td>\n",
       "      <td>Closed with relief</td>\n",
       "      <td>Yes</td>\n",
       "      <td>No</td>\n",
       "      <td>2396</td>\n",
       "    </tr>\n",
       "    <tr>\n",
       "      <th>1282351</th>\n",
       "      <td>12/01/2011</td>\n",
       "      <td>Mortgage</td>\n",
       "      <td>Conventional fixed mortgage</td>\n",
       "      <td>Loan modification,collection,foreclosure</td>\n",
       "      <td>NaN</td>\n",
       "      <td>NaN</td>\n",
       "      <td>NaN</td>\n",
       "      <td>BANK OF AMERICA, NATIONAL ASSOCIATION</td>\n",
       "      <td>OH</td>\n",
       "      <td>45248</td>\n",
       "      <td>NaN</td>\n",
       "      <td>NaN</td>\n",
       "      <td>Web</td>\n",
       "      <td>12/06/2011</td>\n",
       "      <td>Closed without relief</td>\n",
       "      <td>No</td>\n",
       "      <td>No</td>\n",
       "      <td>2323</td>\n",
       "    </tr>\n",
       "    <tr>\n",
       "      <th>1282352</th>\n",
       "      <td>12/01/2011</td>\n",
       "      <td>Credit card</td>\n",
       "      <td>NaN</td>\n",
       "      <td>Billing disputes</td>\n",
       "      <td>NaN</td>\n",
       "      <td>NaN</td>\n",
       "      <td>NaN</td>\n",
       "      <td>JPMORGAN CHASE &amp; CO.</td>\n",
       "      <td>OH</td>\n",
       "      <td>43207</td>\n",
       "      <td>NaN</td>\n",
       "      <td>NaN</td>\n",
       "      <td>Referral</td>\n",
       "      <td>12/01/2011</td>\n",
       "      <td>Closed with relief</td>\n",
       "      <td>Yes</td>\n",
       "      <td>No</td>\n",
       "      <td>2126</td>\n",
       "    </tr>\n",
       "    <tr>\n",
       "      <th>1282353</th>\n",
       "      <td>12/01/2011</td>\n",
       "      <td>Mortgage</td>\n",
       "      <td>Conventional adjustable mortgage (ARM)</td>\n",
       "      <td>Loan servicing, payments, escrow account</td>\n",
       "      <td>NaN</td>\n",
       "      <td>NaN</td>\n",
       "      <td>NaN</td>\n",
       "      <td>BANK OF AMERICA, NATIONAL ASSOCIATION</td>\n",
       "      <td>CO</td>\n",
       "      <td>80920</td>\n",
       "      <td>NaN</td>\n",
       "      <td>NaN</td>\n",
       "      <td>Web</td>\n",
       "      <td>12/01/2011</td>\n",
       "      <td>Closed with relief</td>\n",
       "      <td>Yes</td>\n",
       "      <td>No</td>\n",
       "      <td>2315</td>\n",
       "    </tr>\n",
       "    <tr>\n",
       "      <th>1282354</th>\n",
       "      <td>12/01/2011</td>\n",
       "      <td>Credit card</td>\n",
       "      <td>NaN</td>\n",
       "      <td>Billing disputes</td>\n",
       "      <td>NaN</td>\n",
       "      <td>NaN</td>\n",
       "      <td>NaN</td>\n",
       "      <td>CITIBANK, N.A.</td>\n",
       "      <td>WA</td>\n",
       "      <td>98275</td>\n",
       "      <td>NaN</td>\n",
       "      <td>NaN</td>\n",
       "      <td>Web</td>\n",
       "      <td>12/11/2011</td>\n",
       "      <td>Closed with relief</td>\n",
       "      <td>Yes</td>\n",
       "      <td>No</td>\n",
       "      <td>2329</td>\n",
       "    </tr>\n",
       "  </tbody>\n",
       "</table>\n",
       "<p>1282355 rows × 18 columns</p>\n",
       "</div>"
      ],
      "text/plain": [
       "        Date received                                            Product  \\\n",
       "0          05/10/2019                        Checking or savings account   \n",
       "1          05/10/2019                        Checking or savings account   \n",
       "2          05/10/2019                                    Debt collection   \n",
       "3          05/10/2019  Credit reporting, credit repair services, or o...   \n",
       "4          05/10/2019                        Checking or savings account   \n",
       "...               ...                                                ...   \n",
       "1282350    12/01/2011                                        Credit card   \n",
       "1282351    12/01/2011                                           Mortgage   \n",
       "1282352    12/01/2011                                        Credit card   \n",
       "1282353    12/01/2011                                           Mortgage   \n",
       "1282354    12/01/2011                                        Credit card   \n",
       "\n",
       "                                    Sub-product  \\\n",
       "0                              Checking account   \n",
       "1              Other banking product or service   \n",
       "2                              Payday loan debt   \n",
       "3                              Credit reporting   \n",
       "4                              Checking account   \n",
       "...                                         ...   \n",
       "1282350                                     NaN   \n",
       "1282351             Conventional fixed mortgage   \n",
       "1282352                                     NaN   \n",
       "1282353  Conventional adjustable mortgage (ARM)   \n",
       "1282354                                     NaN   \n",
       "\n",
       "                                            Issue  \\\n",
       "0                             Managing an account   \n",
       "1                             Managing an account   \n",
       "2                           Communication tactics   \n",
       "3            Incorrect information on your report   \n",
       "4                             Managing an account   \n",
       "...                                           ...   \n",
       "1282350                      Credit determination   \n",
       "1282351  Loan modification,collection,foreclosure   \n",
       "1282352                          Billing disputes   \n",
       "1282353  Loan servicing, payments, escrow account   \n",
       "1282354                          Billing disputes   \n",
       "\n",
       "                                            Sub-issue  \\\n",
       "0                   Problem using a debit or ATM card   \n",
       "1                            Deposits and withdrawals   \n",
       "2                          Frequent or repeated calls   \n",
       "3        Old information reappears or never goes away   \n",
       "4                                      Banking errors   \n",
       "...                                               ...   \n",
       "1282350                                           NaN   \n",
       "1282351                                           NaN   \n",
       "1282352                                           NaN   \n",
       "1282353                                           NaN   \n",
       "1282354                                           NaN   \n",
       "\n",
       "        Consumer complaint narrative Company public response  \\\n",
       "0                                NaN                     NaN   \n",
       "1                                NaN                     NaN   \n",
       "2                                NaN                     NaN   \n",
       "3                                NaN                     NaN   \n",
       "4                                NaN                     NaN   \n",
       "...                              ...                     ...   \n",
       "1282350                          NaN                     NaN   \n",
       "1282351                          NaN                     NaN   \n",
       "1282352                          NaN                     NaN   \n",
       "1282353                          NaN                     NaN   \n",
       "1282354                          NaN                     NaN   \n",
       "\n",
       "                                       Company State ZIP code            Tags  \\\n",
       "0                    NAVY FEDERAL CREDIT UNION    FL    328XX  Older American   \n",
       "1                BOEING EMPLOYEES CREDIT UNION    WA    98204             NaN   \n",
       "2                   CURO Intermediate Holdings    TX    751XX             NaN   \n",
       "3               Ad Astra Recovery Services Inc    LA    708XX             NaN   \n",
       "4                          ALLY FINANCIAL INC.    AZ    85205             NaN   \n",
       "...                                        ...   ...      ...             ...   \n",
       "1282350                         CITIBANK, N.A.    MO    63301             NaN   \n",
       "1282351  BANK OF AMERICA, NATIONAL ASSOCIATION    OH    45248             NaN   \n",
       "1282352                   JPMORGAN CHASE & CO.    OH    43207             NaN   \n",
       "1282353  BANK OF AMERICA, NATIONAL ASSOCIATION    CO    80920             NaN   \n",
       "1282354                         CITIBANK, N.A.    WA    98275             NaN   \n",
       "\n",
       "        Consumer consent provided? Submitted via Date sent to company  \\\n",
       "0                              NaN           Web           05/10/2019   \n",
       "1                              NaN      Referral           05/10/2019   \n",
       "2                              NaN           Web           05/10/2019   \n",
       "3                              NaN           Web           05/10/2019   \n",
       "4                              NaN   Postal mail           05/10/2019   \n",
       "...                            ...           ...                  ...   \n",
       "1282350                        NaN           Web           12/02/2011   \n",
       "1282351                        NaN           Web           12/06/2011   \n",
       "1282352                        NaN      Referral           12/01/2011   \n",
       "1282353                        NaN           Web           12/01/2011   \n",
       "1282354                        NaN           Web           12/11/2011   \n",
       "\n",
       "        Company response to consumer Timely response? Consumer disputed?  \\\n",
       "0                        In progress              Yes                NaN   \n",
       "1            Closed with explanation              Yes                NaN   \n",
       "2            Closed with explanation              Yes                NaN   \n",
       "3            Closed with explanation              Yes                NaN   \n",
       "4                        In progress              Yes                NaN   \n",
       "...                              ...              ...                ...   \n",
       "1282350           Closed with relief              Yes                 No   \n",
       "1282351        Closed without relief               No                 No   \n",
       "1282352           Closed with relief              Yes                 No   \n",
       "1282353           Closed with relief              Yes                 No   \n",
       "1282354           Closed with relief              Yes                 No   \n",
       "\n",
       "         Complaint ID  \n",
       "0             3238275  \n",
       "1             3238228  \n",
       "2             3237964  \n",
       "3             3238479  \n",
       "4             3238460  \n",
       "...               ...  \n",
       "1282350          2396  \n",
       "1282351          2323  \n",
       "1282352          2126  \n",
       "1282353          2315  \n",
       "1282354          2329  \n",
       "\n",
       "[1282355 rows x 18 columns]"
      ]
     },
     "execution_count": 3,
     "metadata": {},
     "output_type": "execute_result"
    }
   ],
   "source": [
    "df"
   ]
  },
  {
   "cell_type": "code",
   "execution_count": 4,
   "id": "1df12a95",
   "metadata": {},
   "outputs": [
    {
     "data": {
      "text/plain": [
       "(1282355, 18)"
      ]
     },
     "execution_count": 4,
     "metadata": {},
     "output_type": "execute_result"
    }
   ],
   "source": [
    "df.shape"
   ]
  },
  {
   "cell_type": "code",
   "execution_count": 5,
   "id": "e44024ac",
   "metadata": {},
   "outputs": [
    {
     "data": {
      "text/html": [
       "<div>\n",
       "<style scoped>\n",
       "    .dataframe tbody tr th:only-of-type {\n",
       "        vertical-align: middle;\n",
       "    }\n",
       "\n",
       "    .dataframe tbody tr th {\n",
       "        vertical-align: top;\n",
       "    }\n",
       "\n",
       "    .dataframe thead th {\n",
       "        text-align: right;\n",
       "    }\n",
       "</style>\n",
       "<table border=\"1\" class=\"dataframe\">\n",
       "  <thead>\n",
       "    <tr style=\"text-align: right;\">\n",
       "      <th></th>\n",
       "      <th>Complaint ID</th>\n",
       "    </tr>\n",
       "  </thead>\n",
       "  <tbody>\n",
       "    <tr>\n",
       "      <th>count</th>\n",
       "      <td>1.282355e+06</td>\n",
       "    </tr>\n",
       "    <tr>\n",
       "      <th>mean</th>\n",
       "      <td>1.929831e+06</td>\n",
       "    </tr>\n",
       "    <tr>\n",
       "      <th>std</th>\n",
       "      <td>9.645326e+05</td>\n",
       "    </tr>\n",
       "    <tr>\n",
       "      <th>min</th>\n",
       "      <td>1.000000e+00</td>\n",
       "    </tr>\n",
       "    <tr>\n",
       "      <th>25%</th>\n",
       "      <td>1.124152e+06</td>\n",
       "    </tr>\n",
       "    <tr>\n",
       "      <th>50%</th>\n",
       "      <td>2.123218e+06</td>\n",
       "    </tr>\n",
       "    <tr>\n",
       "      <th>75%</th>\n",
       "      <td>2.798886e+06</td>\n",
       "    </tr>\n",
       "    <tr>\n",
       "      <th>max</th>\n",
       "      <td>3.238682e+06</td>\n",
       "    </tr>\n",
       "  </tbody>\n",
       "</table>\n",
       "</div>"
      ],
      "text/plain": [
       "       Complaint ID\n",
       "count  1.282355e+06\n",
       "mean   1.929831e+06\n",
       "std    9.645326e+05\n",
       "min    1.000000e+00\n",
       "25%    1.124152e+06\n",
       "50%    2.123218e+06\n",
       "75%    2.798886e+06\n",
       "max    3.238682e+06"
      ]
     },
     "execution_count": 5,
     "metadata": {},
     "output_type": "execute_result"
    }
   ],
   "source": [
    "df.describe()"
   ]
  },
  {
   "cell_type": "code",
   "execution_count": 6,
   "id": "5f8df5e8",
   "metadata": {},
   "outputs": [
    {
     "data": {
      "text/plain": [
       "['Date received',\n",
       " 'Product',\n",
       " 'Sub-product',\n",
       " 'Issue',\n",
       " 'Sub-issue',\n",
       " 'Consumer complaint narrative',\n",
       " 'Company public response',\n",
       " 'Company',\n",
       " 'State',\n",
       " 'ZIP code',\n",
       " 'Tags',\n",
       " 'Consumer consent provided?',\n",
       " 'Submitted via',\n",
       " 'Date sent to company',\n",
       " 'Company response to consumer',\n",
       " 'Timely response?',\n",
       " 'Consumer disputed?',\n",
       " 'Complaint ID']"
      ]
     },
     "execution_count": 6,
     "metadata": {},
     "output_type": "execute_result"
    }
   ],
   "source": [
    "list(df.columns)"
   ]
  },
  {
   "cell_type": "markdown",
   "id": "800afc4d",
   "metadata": {},
   "source": [
    "### Missing Values"
   ]
  },
  {
   "cell_type": "code",
   "execution_count": 7,
   "id": "5caa6c30",
   "metadata": {},
   "outputs": [
    {
     "data": {
      "text/plain": [
       "Date received                         0\n",
       "Product                               0\n",
       "Sub-product                      235166\n",
       "Issue                                 0\n",
       "Sub-issue                        531186\n",
       "Consumer complaint narrative     898791\n",
       "Company public response          833273\n",
       "Company                               0\n",
       "State                             19400\n",
       "ZIP code                         115298\n",
       "Tags                            1106712\n",
       "Consumer consent provided?       591701\n",
       "Submitted via                         0\n",
       "Date sent to company                  0\n",
       "Company response to consumer          7\n",
       "Timely response?                      0\n",
       "Consumer disputed?               513854\n",
       "Complaint ID                          0\n",
       "dtype: int64"
      ]
     },
     "execution_count": 7,
     "metadata": {},
     "output_type": "execute_result"
    }
   ],
   "source": [
    "df.isnull().sum()"
   ]
  },
  {
   "cell_type": "code",
   "execution_count": 8,
   "id": "04d4b569",
   "metadata": {},
   "outputs": [
    {
     "data": {
      "text/plain": [
       "<AxesSubplot:>"
      ]
     },
     "execution_count": 8,
     "metadata": {},
     "output_type": "execute_result"
    },
    {
     "data": {
      "image/png": "[encoded data removed]",
      "text/plain": [
       "<Figure size 1296x1296 with 1 Axes>"
      ]
     },
     "metadata": {
      "needs_background": "light"
     },
     "output_type": "display_data"
    }
   ],
   "source": [
    "plt.figure(figsize=(18,18))\n",
    "sns.heatmap(df.isnull(), cbar=False,yticklabels=False)"
   ]
  },
  {
   "cell_type": "code",
   "execution_count": 9,
   "id": "55290345",
   "metadata": {},
   "outputs": [
    {
     "data": {
      "text/plain": [
       "['Checking or savings account',\n",
       " 'Debt collection',\n",
       " 'Credit reporting, credit repair services, or other personal consumer reports',\n",
       " 'Mortgage',\n",
       " 'Student loan',\n",
       " 'Vehicle loan or lease',\n",
       " 'Credit card or prepaid card',\n",
       " 'Payday loan, title loan, or personal loan',\n",
       " 'Money transfer, virtual currency, or money service',\n",
       " 'Credit reporting',\n",
       " 'Credit card',\n",
       " 'Bank account or service',\n",
       " 'Consumer Loan',\n",
       " 'Prepaid card',\n",
       " 'Other financial service',\n",
       " 'Payday loan',\n",
       " 'Money transfers',\n",
       " 'Virtual currency']"
      ]
     },
     "execution_count": 9,
     "metadata": {},
     "output_type": "execute_result"
    }
   ],
   "source": [
    "list(df[\"Product\"].unique())"
   ]
  },
  {
   "cell_type": "markdown",
   "id": "9755e20f",
   "metadata": {},
   "source": [
    "#### The dataset contains features that are not necessary to solve our multi-classification problem. For this text classification problem, we are going to build another dataframe that contains ‘Product’ and ‘Consumer complaint narrative’ (renamed as 'Consumer_complaint')."
   ]
  },
  {
   "cell_type": "code",
   "execution_count": 10,
   "id": "a3847fd7",
   "metadata": {},
   "outputs": [],
   "source": [
    "# Create a new dataframe with two columns\n",
    "df1 = df[['Product', 'Consumer complaint narrative']].copy()\n"
   ]
  },
  {
   "cell_type": "code",
   "execution_count": 11,
   "id": "e09f6eed",
   "metadata": {},
   "outputs": [],
   "source": [
    "# Remove missing values (NaN)\n",
    "df1 = df1[pd.notnull(df1['Consumer complaint narrative'])]"
   ]
  },
  {
   "cell_type": "code",
   "execution_count": 12,
   "id": "59139641",
   "metadata": {},
   "outputs": [
    {
     "data": {
      "text/plain": [
       "(383564, 2)"
      ]
     },
     "execution_count": 12,
     "metadata": {},
     "output_type": "execute_result"
    }
   ],
   "source": [
    "# Renaming second column for a simpler name\n",
    "df1.columns = ['Product', 'Consumer_complaint'] \n",
    "\n",
    "df1.shape"
   ]
  },
  {
   "cell_type": "code",
   "execution_count": 13,
   "id": "863cb6c9",
   "metadata": {},
   "outputs": [
    {
     "data": {
      "text/plain": [
       "29.9"
      ]
     },
     "execution_count": 13,
     "metadata": {},
     "output_type": "execute_result"
    }
   ],
   "source": [
    "# Percentage of complaints with text\n",
    "total = df1['Consumer_complaint'].notnull().sum()\n",
    "round((total/len(df)*100),1)"
   ]
  },
  {
   "cell_type": "markdown",
   "id": "accdb399",
   "metadata": {},
   "source": [
    "#### There are about 380,000 cases containing text out of more than 1 million complaints (about 30% of the original dataset is not null). Still, working with this number is a smart idea. Let's now have a look at the categories into which we want to divide up each complaint."
   ]
  },
  {
   "cell_type": "code",
   "execution_count": 14,
   "id": "51beeaa7",
   "metadata": {},
   "outputs": [
    {
     "data": {
      "text/plain": [
       "array([['Checking or savings account'],\n",
       "       ['Debt collection'],\n",
       "       ['Credit reporting, credit repair services, or other personal consumer reports'],\n",
       "       ['Mortgage'],\n",
       "       ['Student loan'],\n",
       "       ['Vehicle loan or lease'],\n",
       "       ['Credit card or prepaid card'],\n",
       "       ['Payday loan, title loan, or personal loan'],\n",
       "       ['Money transfer, virtual currency, or money service'],\n",
       "       ['Credit reporting'],\n",
       "       ['Credit card'],\n",
       "       ['Bank account or service'],\n",
       "       ['Consumer Loan'],\n",
       "       ['Prepaid card'],\n",
       "       ['Other financial service'],\n",
       "       ['Payday loan'],\n",
       "       ['Money transfers'],\n",
       "       ['Virtual currency']], dtype=object)"
      ]
     },
     "execution_count": 14,
     "metadata": {},
     "output_type": "execute_result"
    }
   ],
   "source": [
    "pd.DataFrame(df.Product.unique()).values"
   ]
  },
  {
   "cell_type": "markdown",
   "id": "e5bea80e",
   "metadata": {},
   "source": [
    "#### There are 18 different classes or categories (target). However; it is observed that some classes are contained in others.\n",
    "#### so we will reduce these categories  and merge relevant categories in one "
   ]
  },
  {
   "cell_type": "code",
   "execution_count": 15,
   "id": "d80d965b",
   "metadata": {},
   "outputs": [],
   "source": [
    "# Because the computation is time consuming (in terms of CPU), the data was sampled\n",
    "df2 = df1.sample(10000, random_state=1).copy()"
   ]
  },
  {
   "cell_type": "code",
   "execution_count": 16,
   "id": "1844377c",
   "metadata": {},
   "outputs": [],
   "source": [
    "# Renaming categories\n",
    "df2.replace({'Product': \n",
    "             {'Credit reporting, credit repair services, or other personal consumer reports': \n",
    "              'Credit reporting, repair, or other', \n",
    "              'Credit reporting': 'Credit reporting, repair, or other',\n",
    "             'Credit card': 'Credit card or prepaid card',\n",
    "             'Prepaid card': 'Credit card or prepaid card',\n",
    "             'Payday loan': 'Payday loan, title loan, or personal loan',\n",
    "             'Money transfer': 'Money transfer, virtual currency, or money service',\n",
    "             'Virtual currency': 'Money transfer, virtual currency, or money service'}}, \n",
    "            inplace= True)"
   ]
  },
  {
   "cell_type": "code",
   "execution_count": 17,
   "id": "648f4dc6",
   "metadata": {},
   "outputs": [
    {
     "data": {
      "text/html": [
       "<div>\n",
       "<style scoped>\n",
       "    .dataframe tbody tr th:only-of-type {\n",
       "        vertical-align: middle;\n",
       "    }\n",
       "\n",
       "    .dataframe tbody tr th {\n",
       "        vertical-align: top;\n",
       "    }\n",
       "\n",
       "    .dataframe thead th {\n",
       "        text-align: right;\n",
       "    }\n",
       "</style>\n",
       "<table border=\"1\" class=\"dataframe\">\n",
       "  <thead>\n",
       "    <tr style=\"text-align: right;\">\n",
       "      <th></th>\n",
       "      <th>0</th>\n",
       "    </tr>\n",
       "  </thead>\n",
       "  <tbody>\n",
       "    <tr>\n",
       "      <th>0</th>\n",
       "      <td>Credit reporting, repair, or other</td>\n",
       "    </tr>\n",
       "    <tr>\n",
       "      <th>1</th>\n",
       "      <td>Debt collection</td>\n",
       "    </tr>\n",
       "    <tr>\n",
       "      <th>2</th>\n",
       "      <td>Consumer Loan</td>\n",
       "    </tr>\n",
       "    <tr>\n",
       "      <th>3</th>\n",
       "      <td>Credit card or prepaid card</td>\n",
       "    </tr>\n",
       "    <tr>\n",
       "      <th>4</th>\n",
       "      <td>Mortgage</td>\n",
       "    </tr>\n",
       "    <tr>\n",
       "      <th>5</th>\n",
       "      <td>Vehicle loan or lease</td>\n",
       "    </tr>\n",
       "    <tr>\n",
       "      <th>6</th>\n",
       "      <td>Student loan</td>\n",
       "    </tr>\n",
       "    <tr>\n",
       "      <th>7</th>\n",
       "      <td>Payday loan, title loan, or personal loan</td>\n",
       "    </tr>\n",
       "    <tr>\n",
       "      <th>8</th>\n",
       "      <td>Checking or savings account</td>\n",
       "    </tr>\n",
       "    <tr>\n",
       "      <th>9</th>\n",
       "      <td>Bank account or service</td>\n",
       "    </tr>\n",
       "    <tr>\n",
       "      <th>10</th>\n",
       "      <td>Money transfer, virtual currency, or money ser...</td>\n",
       "    </tr>\n",
       "    <tr>\n",
       "      <th>11</th>\n",
       "      <td>Money transfers</td>\n",
       "    </tr>\n",
       "    <tr>\n",
       "      <th>12</th>\n",
       "      <td>Other financial service</td>\n",
       "    </tr>\n",
       "  </tbody>\n",
       "</table>\n",
       "</div>"
      ],
      "text/plain": [
       "                                                    0\n",
       "0                  Credit reporting, repair, or other\n",
       "1                                     Debt collection\n",
       "2                                       Consumer Loan\n",
       "3                         Credit card or prepaid card\n",
       "4                                            Mortgage\n",
       "5                               Vehicle loan or lease\n",
       "6                                        Student loan\n",
       "7           Payday loan, title loan, or personal loan\n",
       "8                         Checking or savings account\n",
       "9                             Bank account or service\n",
       "10  Money transfer, virtual currency, or money ser...\n",
       "11                                    Money transfers\n",
       "12                            Other financial service"
      ]
     },
     "execution_count": 17,
     "metadata": {},
     "output_type": "execute_result"
    }
   ],
   "source": [
    "pd.DataFrame(df2.Product.unique())"
   ]
  },
  {
   "cell_type": "markdown",
   "id": "8955eddb",
   "metadata": {},
   "source": [
    "#### Now we need to represent each class as a number, so as our predictive model can better understand the different categories."
   ]
  },
  {
   "cell_type": "code",
   "execution_count": 18,
   "id": "02ffa1d4",
   "metadata": {},
   "outputs": [
    {
     "data": {
      "text/html": [
       "<div>\n",
       "<style scoped>\n",
       "    .dataframe tbody tr th:only-of-type {\n",
       "        vertical-align: middle;\n",
       "    }\n",
       "\n",
       "    .dataframe tbody tr th {\n",
       "        vertical-align: top;\n",
       "    }\n",
       "\n",
       "    .dataframe thead th {\n",
       "        text-align: right;\n",
       "    }\n",
       "</style>\n",
       "<table border=\"1\" class=\"dataframe\">\n",
       "  <thead>\n",
       "    <tr style=\"text-align: right;\">\n",
       "      <th></th>\n",
       "      <th>Product</th>\n",
       "      <th>Consumer_complaint</th>\n",
       "      <th>category_id</th>\n",
       "    </tr>\n",
       "  </thead>\n",
       "  <tbody>\n",
       "    <tr>\n",
       "      <th>310399</th>\n",
       "      <td>Credit reporting, repair, or other</td>\n",
       "      <td>Bayview completely ignored laws and is reporti...</td>\n",
       "      <td>0</td>\n",
       "    </tr>\n",
       "    <tr>\n",
       "      <th>186155</th>\n",
       "      <td>Credit reporting, repair, or other</td>\n",
       "      <td>inaccurate information no knowledge of account...</td>\n",
       "      <td>0</td>\n",
       "    </tr>\n",
       "    <tr>\n",
       "      <th>651135</th>\n",
       "      <td>Debt collection</td>\n",
       "      <td>On XXXX/XXXX/2016 I received a notice from Con...</td>\n",
       "      <td>1</td>\n",
       "    </tr>\n",
       "    <tr>\n",
       "      <th>515233</th>\n",
       "      <td>Consumer Loan</td>\n",
       "      <td>I have a loan with  Kia Motor Finance. I  rece...</td>\n",
       "      <td>2</td>\n",
       "    </tr>\n",
       "    <tr>\n",
       "      <th>641112</th>\n",
       "      <td>Credit card or prepaid card</td>\n",
       "      <td>I have a XXXX BIG card and made my payment whe...</td>\n",
       "      <td>3</td>\n",
       "    </tr>\n",
       "  </tbody>\n",
       "</table>\n",
       "</div>"
      ],
      "text/plain": [
       "                                   Product  \\\n",
       "310399  Credit reporting, repair, or other   \n",
       "186155  Credit reporting, repair, or other   \n",
       "651135                     Debt collection   \n",
       "515233                       Consumer Loan   \n",
       "641112         Credit card or prepaid card   \n",
       "\n",
       "                                       Consumer_complaint  category_id  \n",
       "310399  Bayview completely ignored laws and is reporti...            0  \n",
       "186155  inaccurate information no knowledge of account...            0  \n",
       "651135  On XXXX/XXXX/2016 I received a notice from Con...            1  \n",
       "515233  I have a loan with  Kia Motor Finance. I  rece...            2  \n",
       "641112  I have a XXXX BIG card and made my payment whe...            3  "
      ]
     },
     "execution_count": 18,
     "metadata": {},
     "output_type": "execute_result"
    }
   ],
   "source": [
    "# Create a new column 'category_id' with encoded categories \n",
    "df2['category_id'] = df2['Product'].factorize()[0]\n",
    "category_id_df = df2[['Product', 'category_id']].drop_duplicates()\n",
    "\n",
    "\n",
    "# Dictionaries for future use\n",
    "category_to_id = dict(category_id_df.values)\n",
    "id_to_category = dict(category_id_df[['category_id', 'Product']].values)\n",
    "\n",
    "# New dataframe\n",
    "df2.head()"
   ]
  },
  {
   "cell_type": "markdown",
   "id": "a700c20f",
   "metadata": {},
   "source": [
    "##### pandas.factorize() method helps to get the numeric representation of an array by identifying distinct values\n",
    "##### like it converts a,b,c,d into 1,2,3,4 .like for a,b,c,a it gives 1,2,3,1 means it gives new number to new alphabet"
   ]
  },
  {
   "cell_type": "markdown",
   "id": "1e9d4db5",
   "metadata": {},
   "source": [
    "# EDA (Exploratory Data Analysis)"
   ]
  },
  {
   "cell_type": "code",
   "execution_count": 19,
   "id": "c1a41058",
   "metadata": {},
   "outputs": [
    {
     "data": {
      "text/plain": [
       "Product\n",
       "Other financial service                                  9\n",
       "Money transfers                                         42\n",
       "Money transfer, virtual currency, or money service     142\n",
       "Vehicle loan or lease                                  164\n",
       "Payday loan, title loan, or personal loan              166\n",
       "Consumer Loan                                          271\n",
       "Bank account or service                                354\n",
       "Checking or savings account                            367\n",
       "Student loan                                           569\n",
       "Credit card or prepaid card                           1133\n",
       "Mortgage                                              1352\n",
       "Debt collection                                       2259\n",
       "Credit reporting, repair, or other                    3172\n",
       "Name: Consumer_complaint, dtype: int64"
      ]
     },
     "execution_count": 19,
     "metadata": {},
     "output_type": "execute_result"
    }
   ],
   "source": [
    "df2.groupby('Product').Consumer_complaint.count().sort_values()"
   ]
  },
  {
   "cell_type": "markdown",
   "id": "a48cb5b2",
   "metadata": {},
   "source": [
    "#### we will see No.of complaints in each product category in form of bar"
   ]
  },
  {
   "cell_type": "code",
   "execution_count": 20,
   "id": "80407202",
   "metadata": {},
   "outputs": [
    {
     "data": {
      "image/png": "[encoded data removed]",
      "text/plain": [
       "<Figure size 576x432 with 1 Axes>"
      ]
     },
     "metadata": {
      "needs_background": "light"
     },
     "output_type": "display_data"
    }
   ],
   "source": [
    "fig = plt.figure(figsize=(8,6))\n",
    "colors = ['grey','grey','grey','grey','grey','grey','grey','grey','grey',\n",
    "    'grey','darkblue','darkblue','darkblue']\n",
    "df2.groupby('Product').Consumer_complaint.count().sort_values().plot.barh( color=colors, title= 'NUMBER OF COMPLAINTS IN EACH PRODUCT CATEGORY\\n')\n",
    "plt.xlabel('Number of ocurrences', fontsize = 10);"
   ]
  },
  {
   "cell_type": "markdown",
   "id": "73cde5ed",
   "metadata": {},
   "source": [
    "## Text Preprocessing"
   ]
  },
  {
   "cell_type": "markdown",
   "id": "422c48e3",
   "metadata": {},
   "source": [
    "#### The text needs to be transformed to vectors so as the algorithms will be able make predictions."
   ]
  },
  {
   "cell_type": "markdown",
   "id": "817e3777",
   "metadata": {},
   "source": [
    "###### Term frequency is defined as the number of times a word (i) appears in a document (j) divided by the total number of words in the document.\n",
    "\n"
   ]
  },
  {
   "cell_type": "markdown",
   "id": "e414c710",
   "metadata": {},
   "source": [
    "##### Inverse document frequency refers to the log of the total number of documents divided by the number of documents that contain the word. The logarithm is added to dampen the importance of a very high value of IDF."
   ]
  },
  {
   "cell_type": "markdown",
   "id": "3af580d2",
   "metadata": {},
   "source": [
    "TfidfVectorizer class can be initialized with the following parameters:\n",
    "\n",
    "min_df: remove the words from the vocabulary which have occurred in less than ‘min_df’ number of files.(we set value of min and max df,byt default its 1.0 and 0.01)\n",
    "\n",
    "\n",
    "max_df: remove the words from the vocabulary which have occurred in more than _‘maxdf’ * total number of files in corpus.\n",
    "\n",
    "\n",
    "sublinear_tf: set to True to scale the term frequency in logarithmic scale.\n",
    "\n",
    "\n",
    "stop_words: remove the predefined stop words in 'english'.\n",
    "\n",
    "\n",
    "use_idf: weight factor must use inverse document frequency.\n",
    "\n",
    "\n",
    "ngram_range: (1, 2) to indicate that unigrams and bigrams will be considered."
   ]
  },
  {
   "cell_type": "code",
   "execution_count": 21,
   "id": "7713d970",
   "metadata": {},
   "outputs": [],
   "source": [
    "from sklearn.feature_extraction.text import TfidfVectorizer"
   ]
  },
  {
   "cell_type": "code",
   "execution_count": 22,
   "id": "e983904f",
   "metadata": {},
   "outputs": [
    {
     "name": "stdout",
     "output_type": "stream",
     "text": [
      "Each of the 10000 complaints is represented by 27507 features (TF-IDF score of unigrams and bigrams)\n"
     ]
    }
   ],
   "source": [
    "tfidf = TfidfVectorizer(sublinear_tf=True, min_df=5,\n",
    "                        ngram_range=(1, 2), \n",
    "                        stop_words='english')\n",
    "\n",
    "# We transform each complaint into a vector\n",
    "features = tfidf.fit_transform(df2.Consumer_complaint).toarray()\n",
    "\n",
    "labels = df2.category_id\n",
    "\n",
    "print(\"Each of the %d complaints is represented by %d features (TF-IDF score of unigrams and bigrams)\" %(features.shape))"
   ]
  },
  {
   "cell_type": "code",
   "execution_count": 23,
   "id": "31bea614",
   "metadata": {},
   "outputs": [],
   "source": [
    "from sklearn.feature_selection import chi2"
   ]
  },
  {
   "cell_type": "code",
   "execution_count": 24,
   "id": "c563e518",
   "metadata": {},
   "outputs": [
    {
     "name": "stdout",
     "output_type": "stream",
     "text": [
      "\n",
      "==> Bank account or service:\n",
      "  * Most Correlated Unigrams are: overdraft, bank, scottrade\n",
      "  * Most Correlated Bigrams are: citigold checking, debit card, checking account\n",
      "\n",
      "==> Checking or savings account:\n",
      "  * Most Correlated Unigrams are: checking, branch, overdraft\n",
      "  * Most Correlated Bigrams are: 00 bonus, overdraft fees, checking account\n",
      "\n",
      "==> Consumer Loan:\n",
      "  * Most Correlated Unigrams are: dealership, vehicle, car\n",
      "  * Most Correlated Bigrams are: car loan, vehicle loan, regional acceptance\n",
      "\n",
      "==> Credit card or prepaid card:\n",
      "  * Most Correlated Unigrams are: express, citi, card\n",
      "  * Most Correlated Bigrams are: balance transfer, american express, credit card\n",
      "\n",
      "==> Credit reporting, repair, or other:\n",
      "  * Most Correlated Unigrams are: report, experian, equifax\n",
      "  * Most Correlated Bigrams are: credit file, equifax xxxx, credit report\n",
      "\n",
      "==> Debt collection:\n",
      "  * Most Correlated Unigrams are: collect, collection, debt\n",
      "  * Most Correlated Bigrams are: debt collector, collect debt, collection agency\n",
      "\n",
      "==> Money transfer, virtual currency, or money service:\n",
      "  * Most Correlated Unigrams are: ethereum, bitcoin, coinbase\n",
      "  * Most Correlated Bigrams are: account coinbase, coinbase xxxx, coinbase account\n",
      "\n",
      "==> Money transfers:\n",
      "  * Most Correlated Unigrams are: paypal, moneygram, gram\n",
      "  * Most Correlated Bigrams are: sending money, western union, money gram\n",
      "\n",
      "==> Mortgage:\n",
      "  * Most Correlated Unigrams are: escrow, modification, mortgage\n",
      "  * Most Correlated Bigrams are: short sale, mortgage company, loan modification\n",
      "\n",
      "==> Other financial service:\n",
      "  * Most Correlated Unigrams are: meetings, productive, vast\n",
      "  * Most Correlated Bigrams are: insurance check, check payable, face face\n",
      "\n",
      "==> Payday loan, title loan, or personal loan:\n",
      "  * Most Correlated Unigrams are: astra, ace, payday\n",
      "  * Most Correlated Bigrams are: 00 loan, applied payday, payday loan\n",
      "\n",
      "==> Student loan:\n",
      "  * Most Correlated Unigrams are: student, loans, navient\n",
      "  * Most Correlated Bigrams are: income based, student loan, student loans\n",
      "\n",
      "==> Vehicle loan or lease:\n",
      "  * Most Correlated Unigrams are: honda, car, vehicle\n",
      "  * Most Correlated Bigrams are: used vehicle, total loss, honda financial\n"
     ]
    }
   ],
   "source": [
    "# Finding the three most correlated terms with each of the product categories\n",
    "N = 3\n",
    "for Product, category_id in sorted(category_to_id.items()):\n",
    "  features_chi2 = chi2(features, labels == category_id)\n",
    "  indices = np.argsort(features_chi2[0])\n",
    "  feature_names = np.array(tfidf.get_feature_names())[indices]\n",
    "  unigrams = [v for v in feature_names if len(v.split(' ')) == 1]\n",
    "  bigrams = [v for v in feature_names if len(v.split(' ')) == 2]\n",
    "  print(\"\\n==> %s:\" %(Product))\n",
    "  print(\"  * Most Correlated Unigrams are: %s\" %(', '.join(unigrams[-N:])))\n",
    "  print(\"  * Most Correlated Bigrams are: %s\" %(', '.join(bigrams[-N:])))"
   ]
  },
  {
   "cell_type": "markdown",
   "id": "634b2c25",
   "metadata": {},
   "source": [
    "## Multi-Classification models"
   ]
  },
  {
   "cell_type": "markdown",
   "id": "503690c6",
   "metadata": {},
   "source": [
    "The classification models evaluated are:\n",
    "\n",
    "Random Forest\n",
    "\n",
    "Linear Support Vector Machine\n",
    "\n",
    "Multinomial Naive Bayes\n",
    "\n",
    "Logistic Regression."
   ]
  },
  {
   "cell_type": "markdown",
   "id": "aee92346",
   "metadata": {},
   "source": [
    "##### Spliting the data into train and test sets"
   ]
  },
  {
   "cell_type": "code",
   "execution_count": 25,
   "id": "d33e3669",
   "metadata": {},
   "outputs": [],
   "source": [
    "import pandas as pd\n",
    "from sklearn.datasets import load_iris\n",
    "from sklearn.model_selection import train_test_split\n"
   ]
  },
  {
   "cell_type": "code",
   "execution_count": 26,
   "id": "627b344b",
   "metadata": {},
   "outputs": [],
   "source": [
    "x=df2[['Consumer_complaint']]\n",
    "y=df2['Product']"
   ]
  },
  {
   "cell_type": "code",
   "execution_count": 27,
   "id": "bdd78d94",
   "metadata": {},
   "outputs": [],
   "source": [
    "x_train, x_test, y_train, y_test = train_test_split(x, y, test_size=0.3, random_state=101)"
   ]
  },
  {
   "cell_type": "markdown",
   "id": "27ee561e",
   "metadata": {},
   "source": [
    "## Model Development"
   ]
  },
  {
   "cell_type": "code",
   "execution_count": 28,
   "id": "c8a53c46",
   "metadata": {},
   "outputs": [],
   "source": [
    "from sklearn.ensemble import RandomForestClassifier"
   ]
  },
  {
   "cell_type": "code",
   "execution_count": 32,
   "id": "7d48cf77",
   "metadata": {},
   "outputs": [],
   "source": [
    "from sklearn.svm import LinearSVC"
   ]
  },
  {
   "cell_type": "code",
   "execution_count": 33,
   "id": "2154b641",
   "metadata": {},
   "outputs": [],
   "source": [
    "from sklearn.naive_bayes import MultinomialNB"
   ]
  },
  {
   "cell_type": "code",
   "execution_count": 34,
   "id": "31440fd1",
   "metadata": {},
   "outputs": [],
   "source": [
    " from sklearn.linear_model import LogisticRegression"
   ]
  },
  {
   "cell_type": "code",
   "execution_count": 35,
   "id": "73164b96",
   "metadata": {},
   "outputs": [],
   "source": [
    " from sklearn.model_selection import cross_val_score"
   ]
  },
  {
   "cell_type": "code",
   "execution_count": 36,
   "id": "0a1c086b",
   "metadata": {},
   "outputs": [],
   "source": [
    "models = [\n",
    "    RandomForestClassifier(n_estimators=100, max_depth=5, random_state=0),\n",
    "    LinearSVC(),\n",
    "    MultinomialNB(),\n",
    "    LogisticRegression(random_state=0),\n",
    "]\n",
    "\n",
    "# 5 Cross-validation\n",
    "CV = 5\n",
    "cv_df = pd.DataFrame(index=range(CV * len(models)))\n",
    "\n",
    "entries = []\n",
    "for model in models:\n",
    "  model_name = model.__class__.__name__\n",
    "  accuracies = cross_val_score(model, features, labels, scoring='accuracy', cv=CV)\n",
    "  for fold_idx, accuracy in enumerate(accuracies):\n",
    "    entries.append((model_name, fold_idx, accuracy))\n",
    "    \n",
    "cv_df = pd.DataFrame(entries, columns=['model_name', 'fold_idx', 'accuracy'])"
   ]
  },
  {
   "cell_type": "code",
   "execution_count": 37,
   "id": "60bcde5c",
   "metadata": {},
   "outputs": [
    {
     "data": {
      "text/html": [
       "<div>\n",
       "<style scoped>\n",
       "    .dataframe tbody tr th:only-of-type {\n",
       "        vertical-align: middle;\n",
       "    }\n",
       "\n",
       "    .dataframe tbody tr th {\n",
       "        vertical-align: top;\n",
       "    }\n",
       "\n",
       "    .dataframe thead th {\n",
       "        text-align: right;\n",
       "    }\n",
       "</style>\n",
       "<table border=\"1\" class=\"dataframe\">\n",
       "  <thead>\n",
       "    <tr style=\"text-align: right;\">\n",
       "      <th></th>\n",
       "      <th>Mean Accuracy</th>\n",
       "      <th>Standard deviation</th>\n",
       "    </tr>\n",
       "    <tr>\n",
       "      <th>model_name</th>\n",
       "      <th></th>\n",
       "      <th></th>\n",
       "    </tr>\n",
       "  </thead>\n",
       "  <tbody>\n",
       "    <tr>\n",
       "      <th>LinearSVC</th>\n",
       "      <td>0.7791</td>\n",
       "      <td>0.005561</td>\n",
       "    </tr>\n",
       "    <tr>\n",
       "      <th>LogisticRegression</th>\n",
       "      <td>0.7641</td>\n",
       "      <td>0.009839</td>\n",
       "    </tr>\n",
       "    <tr>\n",
       "      <th>MultinomialNB</th>\n",
       "      <td>0.6475</td>\n",
       "      <td>0.004596</td>\n",
       "    </tr>\n",
       "    <tr>\n",
       "      <th>RandomForestClassifier</th>\n",
       "      <td>0.3949</td>\n",
       "      <td>0.006665</td>\n",
       "    </tr>\n",
       "  </tbody>\n",
       "</table>\n",
       "</div>"
      ],
      "text/plain": [
       "                        Mean Accuracy  Standard deviation\n",
       "model_name                                               \n",
       "LinearSVC                      0.7791            0.005561\n",
       "LogisticRegression             0.7641            0.009839\n",
       "MultinomialNB                  0.6475            0.004596\n",
       "RandomForestClassifier         0.3949            0.006665"
      ]
     },
     "execution_count": 37,
     "metadata": {},
     "output_type": "execute_result"
    }
   ],
   "source": [
    "mean_accuracy = cv_df.groupby('model_name').accuracy.mean()\n",
    "std_accuracy = cv_df.groupby('model_name').accuracy.std()\n",
    "\n",
    "acc = pd.concat([mean_accuracy, std_accuracy], axis= 1, \n",
    "          ignore_index=True)\n",
    "acc.columns = ['Mean Accuracy', 'Standard deviation']\n",
    "acc"
   ]
  },
  {
   "cell_type": "code",
   "execution_count": 38,
   "id": "ffe881eb",
   "metadata": {},
   "outputs": [
    {
     "data": {
      "image/png": "[encoded data removed]",
      "text/plain": [
       "<Figure size 576x360 with 1 Axes>"
      ]
     },
     "metadata": {
      "needs_background": "light"
     },
     "output_type": "display_data"
    }
   ],
   "source": [
    "plt.figure(figsize=(8,5))\n",
    "sns.boxplot(x='model_name', y='accuracy', \n",
    "            data=cv_df, \n",
    "            color='lightblue', \n",
    "            showmeans=True)\n",
    "plt.title(\"MEAN ACCURACY (cv = 5)\\n\", size=14);"
   ]
  },
  {
   "cell_type": "markdown",
   "id": "0ae28ca3",
   "metadata": {},
   "source": [
    "## Model Evaluation"
   ]
  },
  {
   "cell_type": "code",
   "execution_count": 39,
   "id": "7ce99979",
   "metadata": {},
   "outputs": [],
   "source": [
    "x_train, x_test, y_train, y_test,indices_train,indices_test = train_test_split(features, \n",
    "                                                               labels, \n",
    "                                                               df2.index, test_size=0.25, \n",
    "                                                               random_state=1)\n",
    "model = LinearSVC()\n",
    "model.fit(x_train, y_train)\n",
    "y_pred = model.predict(x_test)"
   ]
  },
  {
   "cell_type": "markdown",
   "id": "bc817a33",
   "metadata": {},
   "source": [
    "### Precision, Recall, F1-score"
   ]
  },
  {
   "cell_type": "code",
   "execution_count": 48,
   "id": "c4a6c84e",
   "metadata": {},
   "outputs": [],
   "source": [
    "from sklearn.metrics import classification_report\n",
    "import sklearn.metrics as metrics"
   ]
  },
  {
   "cell_type": "code",
   "execution_count": 49,
   "id": "26364f67",
   "metadata": {},
   "outputs": [
    {
     "name": "stdout",
     "output_type": "stream",
     "text": [
      "\t\t\t\tCLASSIFICATIION METRICS\n",
      "\n",
      "                                                    precision    recall  f1-score   support\n",
      "\n",
      "                Credit reporting, repair, or other       0.81      0.88      0.84       783\n",
      "                                   Debt collection       0.76      0.80      0.78       588\n",
      "                                     Consumer Loan       0.52      0.22      0.31        73\n",
      "                       Credit card or prepaid card       0.73      0.82      0.77       253\n",
      "                                          Mortgage       0.87      0.92      0.90       340\n",
      "                             Vehicle loan or lease       0.43      0.14      0.21        43\n",
      "                                      Student loan       0.85      0.85      0.85       155\n",
      "         Payday loan, title loan, or personal loan       0.50      0.17      0.26        40\n",
      "                       Checking or savings account       0.61      0.60      0.61        85\n",
      "                           Bank account or service       0.61      0.43      0.50        93\n",
      "Money transfer, virtual currency, or money service       0.83      0.62      0.71        32\n",
      "                                   Money transfers       0.60      0.23      0.33        13\n",
      "                           Other financial service       0.00      0.00      0.00         2\n",
      "\n",
      "                                          accuracy                           0.78      2500\n",
      "                                         macro avg       0.62      0.51      0.54      2500\n",
      "                                      weighted avg       0.77      0.78      0.77      2500\n",
      "\n"
     ]
    }
   ],
   "source": [
    "  # Classification report\n",
    "print('\\t\\t\\t\\tCLASSIFICATIION METRICS\\n')\n",
    "print(metrics.classification_report(y_test, y_pred, \n",
    "                                    target_names= df2['Product'].unique()))"
   ]
  },
  {
   "cell_type": "markdown",
   "id": "f9b739cd",
   "metadata": {},
   "source": [
    "### Confusion Matrix"
   ]
  },
  {
   "cell_type": "code",
   "execution_count": 53,
   "id": "8e0714a3",
   "metadata": {},
   "outputs": [],
   "source": [
    " from sklearn.metrics import confusion_matrix"
   ]
  },
  {
   "cell_type": "markdown",
   "id": "0abf45e7",
   "metadata": {},
   "source": [
    "A Confusion Matrix is a table which rows represent the actual class and columns represents the predicted class.\n",
    "\n",
    "If we had a perfect model that always classifies correctly a new complaint, then the confusion matrix would have values in the diagonal only (where predicted label = actual label)."
   ]
  },
  {
   "cell_type": "code",
   "execution_count": 52,
   "id": "1e771647",
   "metadata": {},
   "outputs": [
    {
     "data": {
      "image/png": "[encoded data removed]",
      "text/plain": [
       "<Figure size 576x576 with 2 Axes>"
      ]
     },
     "metadata": {
      "needs_background": "light"
     },
     "output_type": "display_data"
    }
   ],
   "source": [
    "conf_mat = confusion_matrix(y_test, y_pred)\n",
    "fig, ax = plt.subplots(figsize=(8,8))\n",
    "sns.heatmap(conf_mat, annot=True, cmap=\"Blues\", fmt='d',\n",
    "            xticklabels=category_id_df.Product.values, \n",
    "            yticklabels=category_id_df.Product.values)\n",
    "plt.ylabel('Actual')\n",
    "plt.xlabel('Predicted')\n",
    "plt.title(\"CONFUSION MATRIX - LinearSVC\\n\", size=16);"
   ]
  },
  {
   "cell_type": "code",
   "execution_count": 51,
   "id": "cba0d7a1",
   "metadata": {},
   "outputs": [],
   "source": []
  },
  {
   "cell_type": "code",
   "execution_count": null,
   "id": "33c0ea56",
   "metadata": {},
   "outputs": [],
   "source": []
  },
  {
   "cell_type": "code",
   "execution_count": null,
   "id": "733b822d",
   "metadata": {},
   "outputs": [],
   "source": []
  }
 ],
 "metadata": {
  "kernelspec": {
   "display_name": "Python 3 (ipykernel)",
   "language": "python",
   "name": "python3"
  },
  "language_info": {
   "codemirror_mode": {
    "name": "ipython",
    "version": 3
   },
   "file_extension": ".py",
   "mimetype": "text/x-python",
   "name": "python",
   "nbconvert_exporter": "python",
   "pygments_lexer": "ipython3",
   "version": "3.9.7"
  }
 },
 "nbformat": 4,
 "nbformat_minor": 5
}
